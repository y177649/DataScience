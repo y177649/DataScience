{
 "cells": [
  {
   "cell_type": "code",
   "execution_count": 37,
   "id": "60766fd4",
   "metadata": {},
   "outputs": [
    {
     "data": {
      "text/plain": [
       "0       82\n",
       "1       98\n",
       "2       74\n",
       "3       66\n",
       "4       54\n",
       "        ..\n",
       "1465    72\n",
       "1466    78\n",
       "1467    54\n",
       "1468    98\n",
       "1469    68\n",
       "Name: Age, Length: 1470, dtype: int64"
      ]
     },
     "execution_count": 37,
     "metadata": {},
     "output_type": "execute_result"
    }
   ],
   "source": [
    "import pandas as pd\n",
    "import numpy as np\n",
    "\n",
    "att=pd.read_csv('https://takafumikubota.jp/pandas/data/HR_Employee_Attrition.csv')\n",
    "\n",
    "#att.head() #先頭の５行を表示\n",
    "\n",
    "#att['Age']　#Age列のを表示\n",
    "\n",
    "#att['Age'].unique() #どんなデータが入っているか、setにてる？\n",
    "\n",
    "#att['Age'].nunique() #何種類のデータが入っているか\n",
    "\n",
    "#att['Age'].value_counts() #それぞれのデータのデータ数\n",
    "\n",
    "#att[att['Age']>=20] #(ブールインデックス)条件の中身がTrueの行列\n",
    "\n",
    "#att[(att['Age']>=20)&(att['OverTime']=='Yes')] #andの条件Ageが20以上で、OverTimeがYesの行列\n",
    "\n",
    "#att.loc[0] #0行目を表示\n",
    "\n",
    "#att.iloc[0:3] #0行目から2行目までを取得　リスト操作と指定の仕方は同じ\n",
    "\n",
    "#att.loc[:,['Age','Attrition','BusinessTravel']] #指定した列のすべてを表示（[:]はpythonのリスト操作と同じ）\n",
    "\n",
    "#att[(att['Attrition']=='False')|(att['Department']=='Sales')] #AttritionがTrueまたはDepartmentがTrueの行列\n",
    "\n",
    "#att.groupby(\"Age\").max() #Age要素の各カラムの最大値\n",
    "\n",
    "#att.groupby(\"Age\").max()[\"Education\"] #更にカラムを指定\n",
    "\n",
    "#機能せず（5*5の行列を所得したいが、2*2の行列になる）att.iloc[[0,4],[0,4]]\n",
    "\n",
    "\n",
    "#att['Age'].mean() #平均\n",
    "\n",
    "#att['Age'].max() #最大値\n",
    "\n",
    "#att['Age'].min() #最小値\n",
    "\n",
    "#att['Age'].sum() #合計\n",
    "\n",
    "#att. mean(numeric_only=True) #att内の数値の列の平均(numeric_only=True）\n",
    "\n",
    "#att['Age']*2 #Ageを２倍にする\n",
    "\n",
    "#att['Age']*att['EmployeeCount'] #AgeとEmployeeCountを乗算する\n",
    "\n",
    "\n",
    "#機能せず　att['Age']=att['Age']+'y/o'\n",
    "\n",
    "\n",
    "#att.info() #カラムの種類と各カラムの値が入っているかどうか、更にデータの型がわかる\n",
    "\n",
    "#att.shape #行と列の数を取得\n",
    "\n",
    "#att.columns #カラムを取得\n",
    "\n",
    "#att.describe() #カラムすべての統計量の表示\n",
    "\n",
    "#att.sort_values(\"Age\") #Ageをソート\n",
    "\n",
    "#att.sort_values(\"Age\",ascending=False) #降順にソート"
   ]
  },
  {
   "cell_type": "markdown",
   "id": "be0051bf",
   "metadata": {},
   "source": []
  },
  {
   "cell_type": "markdown",
   "id": "7c1af764",
   "metadata": {},
   "source": []
  },
  {
   "cell_type": "code",
   "execution_count": null,
   "id": "de2fdc8a",
   "metadata": {},
   "outputs": [],
   "source": []
  },
  {
   "cell_type": "code",
   "execution_count": null,
   "id": "baeafba8",
   "metadata": {},
   "outputs": [],
   "source": []
  }
 ],
 "metadata": {
  "kernelspec": {
   "display_name": "Python 3 (ipykernel)",
   "language": "python",
   "name": "python3"
  },
  "language_info": {
   "codemirror_mode": {
    "name": "ipython",
    "version": 3
   },
   "file_extension": ".py",
   "mimetype": "text/x-python",
   "name": "python",
   "nbconvert_exporter": "python",
   "pygments_lexer": "ipython3",
   "version": "3.10.9"
  }
 },
 "nbformat": 4,
 "nbformat_minor": 5
}
